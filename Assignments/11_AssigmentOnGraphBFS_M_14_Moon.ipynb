{
 "cells": [
  {
   "cell_type": "markdown",
   "metadata": {},
   "source": [
    "# Assignment on Graph Part 1\n",
    "\n"
   ]
  },
  {
   "cell_type": "markdown",
   "metadata": {},
   "source": [
    "# Task 1:\n",
    "There is a bi-directional graph with n vertices, where each vertex is labeled from 0 to n - 1 (inclusive). The edges in the graph are represented as 2D integer array edges, where each edges[i] = [ui, vi] denotes a bi-directional edge between vertex ui and vertex vi. Every vertex pair is connected by at most one edge, and no vertex has an edge to itself.\n",
    "\n",
    "You want to determine if there is a valid path that exists from vertex source to vertex destination.\n",
    "\n",
    "\n",
    "Given edges and the integers n, source, and destination, return true if there is a valid path from source to destination, or false otherwise.\n",
    "\n",
    "Mention the time and space complexity of your solution.\n",
    "\n",
    "Constraints:\n",
    "1 <= n <= 2 * 10^5\n",
    "0 <= edges.length <= 2 * 10^5\n",
    "edges[i].length == 2\n",
    "0 <= ui, vi <= n - 1\n",
    "ui != vi\n",
    "0 <= source, destination <= n - 1\n",
    "There are no duplicate edges.\n",
    "There are no self edges.\n",
    "\n",
    "\n",
    "> Example 1:\n",
    "\n",
    "Input: n = 3, edges = [[0,1],[1,2],[2,0]], source = 0, destination = 2\n",
    "Output: true\n",
    "Explanation: There are two paths from vertex 0 to vertex 2:\n",
    "- 0 → 1 → 2\n",
    "- 0 → 2\n",
    "\n",
    "\n",
    "> Example 2:\n",
    "\n",
    "Input: n = 6, edges = [[0,1],[0,2],[3,5],[5,4],[4,3]], source = 0, destination = 5\n",
    "Output: false\n",
    "Explanation: There is no path from vertex 0 to vertex 5."
   ]
  },
  {
   "cell_type": "code",
   "execution_count": 1,
   "metadata": {},
   "outputs": [],
   "source": [
    "def validPath(n, edges, source, destination):\n",
    "    # Step 1: Build the adjacency list\n",
    "    adj_list = {i: [] for i in range(n)}\n",
    "    for u, v in edges:\n",
    "        adj_list[u].append(v)\n",
    "        adj_list[v].append(u)\n",
    "\n",
    "    # Step 2: Perform BFS or DFS\n",
    "    def dfs(node, visited):\n",
    "        if node == destination:\n",
    "            return True\n",
    "        visited.add(node)\n",
    "        for neighbor in adj_list[node]:\n",
    "            if neighbor not in visited:\n",
    "                if dfs(neighbor, visited):\n",
    "                    return True\n",
    "        return False\n",
    "\n",
    "    # Initialize visited set\n",
    "    visited = set()\n",
    "    return dfs(source, visited)\n"
   ]
  },
  {
   "cell_type": "code",
   "execution_count": 3,
   "metadata": {},
   "outputs": [
    {
     "name": "stdout",
     "output_type": "stream",
     "text": [
      "True\n"
     ]
    }
   ],
   "source": [
    "n = 3\n",
    "edges = [[0, 1], [1, 2], [2, 0]]\n",
    "source = 0\n",
    "destination = 2\n",
    "\n",
    "print(validPath(n, edges, source, destination))  # Output: True\n"
   ]
  },
  {
   "cell_type": "markdown",
   "metadata": {},
   "source": [
    "### Complexities of Task 1\n",
    "\n",
    "> Time: O(N + M), where N is the number of nodes and M is the number of edges.\n",
    "\n",
    "> Space: O(n)"
   ]
  },
  {
   "cell_type": "markdown",
   "metadata": {},
   "source": [
    "# Task 2:\n",
    "Given a graph with A nodes.\n",
    "The edges in the graph are given in a 2D array B.\n",
    "There is an undirected edge between B[i][0] and B[i][1].\n",
    "Find the number of connected components in the given graph.\n",
    "\n",
    "Mention the time and space complexity of your solution.\n",
    "\n",
    "> Constraints:\n",
    "\n",
    "1 <= A <= 10^5\n",
    "1 <= |B| <= 10^5\n",
    "1 <= B[i][0], B[i][1] <= A\n",
    "\n",
    "\n",
    "\n",
    "> Example 1:\n",
    "\n",
    "Input:\n",
    "A = 4\n",
    "B =\n",
    "[[1, 2],\n",
    "[2, 3]]\n",
    "Output : 2\n",
    "Explanation: The two connected components are [1, 2, 3] and [4].\n",
    "\n",
    "\n",
    "> Example 2:\n",
    "\n",
    "Input:\n",
    "A = 3\n",
    "B = \n",
    "[[1, 2],\n",
    "[2, 1]]\n",
    "Output: 2\n",
    "Explanation: The two connected components are [1, 2] and [3]."
   ]
  },
  {
   "cell_type": "code",
   "execution_count": 2,
   "metadata": {},
   "outputs": [],
   "source": [
    "def countConnectedComponents(A, B):\n",
    "    # Step 1: Build the adjacency list\n",
    "    adj_list = {i: [] for i in range(1, A + 1)}\n",
    "    for u, v in B:\n",
    "        adj_list[u].append(v)\n",
    "        adj_list[v].append(u)\n",
    "\n",
    "    # Step 2: DFS to find all components\n",
    "    def dfs(node, visited):\n",
    "        visited.add(node)\n",
    "        for neighbor in adj_list[node]:\n",
    "            if neighbor not in visited:\n",
    "                dfs(neighbor, visited)\n",
    "\n",
    "    visited = set()\n",
    "    components = 0\n",
    "\n",
    "    # Step 3: Go through each node and run DFS if unvisited\n",
    "    for node in range(1, A + 1):\n",
    "        if node not in visited:\n",
    "            dfs(node, visited)\n",
    "            components += 1\n",
    "\n",
    "    return components\n"
   ]
  },
  {
   "cell_type": "code",
   "execution_count": 5,
   "metadata": {},
   "outputs": [
    {
     "name": "stdout",
     "output_type": "stream",
     "text": [
      "2\n"
     ]
    }
   ],
   "source": [
    "A = 4\n",
    "B = [[1, 2], [2, 3]]\n",
    "\n",
    "print(countConnectedComponents(A, B))  # Output: 2\n"
   ]
  },
  {
   "cell_type": "markdown",
   "metadata": {},
   "source": [
    "### Complexities of Task 1\n",
    "\n",
    "> Time: O(A + M), where A is the number of nodes, M is the number of edges.\n",
    "\n",
    "> Space: O(A)"
   ]
  }
 ],
 "metadata": {
  "kernelspec": {
   "display_name": "Python 3",
   "language": "python",
   "name": "python3"
  },
  "language_info": {
   "codemirror_mode": {
    "name": "ipython",
    "version": 3
   },
   "file_extension": ".py",
   "mimetype": "text/x-python",
   "name": "python",
   "nbconvert_exporter": "python",
   "pygments_lexer": "ipython3",
   "version": "3.12.5"
  }
 },
 "nbformat": 4,
 "nbformat_minor": 2
}

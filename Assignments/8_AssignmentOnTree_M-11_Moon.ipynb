{
 "cells": [
  {
   "cell_type": "markdown",
   "metadata": {},
   "source": [
    "# Task 1\n",
    "\n",
    "> Given the root of a binary tree, return its Height. A binary tree's Height is the number of nodes along the longest path from the root node down to the farthest leaf node."
   ]
  },
  {
   "cell_type": "code",
   "execution_count": 11,
   "metadata": {},
   "outputs": [],
   "source": [
    "# Definition for a binary tree node.\n",
    "class TreeNode:\n",
    "    def __init__(self, val=0, left=None, right=None):\n",
    "        self.val = val\n",
    "        self.left = left\n",
    "        self.right = right\n",
    "\n",
    "class Solution:\n",
    "    def get_Height(self, root):\n",
    "        \"\"\"\n",
    "        :type root: TreeNode\n",
    "        :rtype: int\n",
    "        \"\"\"\n",
    "        if not root:\n",
    "            return 0\n",
    "        \n",
    "        left_height = self.get_Height(root.left)\n",
    "        right_height = self.get_Height(root.right)\n",
    "        \n",
    "        return 1 + max(left_height, right_height)\n",
    "\n",
    "def build_tree_from_list(arr):\n",
    "    \"\"\"\n",
    "    Build a binary tree from a list.\n",
    "    :type arr: List[int]\n",
    "    :rtype: TreeNode\n",
    "    \"\"\"\n",
    "    if not arr:\n",
    "        return None\n",
    "    \n",
    "    root = TreeNode(arr[0])\n",
    "    nodes = [root]  # Initialize with the root node\n",
    "    index = 1\n",
    "    \n",
    "    for node in nodes:\n",
    "        if index < len(arr):\n",
    "            if arr[index] is not None:\n",
    "                node.left = TreeNode(arr[index])\n",
    "                nodes.append(node.left)\n",
    "            index += 1\n",
    "        \n",
    "        if index < len(arr):\n",
    "            if arr[index] is not None:\n",
    "                node.right = TreeNode(arr[index])\n",
    "                nodes.append(node.right)\n",
    "            index += 1\n",
    "    \n",
    "    return root\n",
    "\n",
    "\n",
    "# n is the number of nodes\n",
    "\n",
    "# Time: O(n) >> as we visit every node\n",
    "# Space: O(n)\n",
    "\n"
   ]
  },
  {
   "cell_type": "code",
   "execution_count": 12,
   "metadata": {},
   "outputs": [
    {
     "name": "stdout",
     "output_type": "stream",
     "text": [
      "3\n",
      "2\n"
     ]
    }
   ],
   "source": [
    "# Example Usage\n",
    "sol = Solution()\n",
    "\n",
    "# Test with Example 1\n",
    "arr1 = [3, 9, 20, None, None, 15, 7]\n",
    "root1 = build_tree_from_list(arr1)\n",
    "print(sol.get_Height(root1))  # Output: 3\n",
    "\n",
    "# Test with Example 2\n",
    "arr2 = [1, None, 2]\n",
    "root2 = build_tree_from_list(arr2)\n",
    "print(sol.get_Height(root2))  # Output: 2"
   ]
  },
  {
   "cell_type": "markdown",
   "metadata": {},
   "source": [
    "# Task 2\n",
    "\n",
    "> You are given a binary search tree (BST) and an integer val. Find the node in the BST that the node's value equals val and return the subtree rooted with that node. If such a node does not exist, return null."
   ]
  },
  {
   "cell_type": "code",
   "execution_count": 44,
   "metadata": {},
   "outputs": [],
   "source": [
    "class BinarySearchTreeNode:\n",
    "    def __init__(self, data):\n",
    "        self.data = data\n",
    "        self.left = None\n",
    "        self.right = None\n",
    "\n",
    "    def add_child(self, data):\n",
    "        # Check for existing value if it same or not\n",
    "        if data == self.data:\n",
    "            return\n",
    "               \n",
    "        elif data < self.data:\n",
    "            # Smaller values go left\n",
    "            if self.left:\n",
    "                self.left.add_child(data)\n",
    "            else:\n",
    "                self.left = BinarySearchTreeNode(data)\n",
    "        else:\n",
    "            # Larger values go right\n",
    "            if self.right:\n",
    "                self.right.add_child(data)\n",
    "            else:\n",
    "                self.right = BinarySearchTreeNode(data)\n",
    "    \n",
    "    def get_subtree(self, target):\n",
    "        if self.data == target:\n",
    "            return self\n",
    "        \n",
    "        elif target < self.data:\n",
    "            if self.left:\n",
    "                return self.left.get_subtree(target)\n",
    "            else:\n",
    "                return None\n",
    "            \n",
    "        elif target > self.data:\n",
    "            if self.right:\n",
    "                return self.right.get_subtree(target)\n",
    "            else:\n",
    "                return None\n",
    "\n",
    "def build_binary_tree(elements):\n",
    "    if not elements:\n",
    "        return None\n",
    "    \n",
    "    root = BinarySearchTreeNode(elements[0])\n",
    "\n",
    "    for i in range(1, len(elements)):\n",
    "        root.add_child(elements[i])\n",
    "\n",
    "    return root\n",
    "\n",
    "def tree_to_list(root):\n",
    "    if root is None:\n",
    "        return []\n",
    "    return tree_to_list(root.left) + [root.data] + tree_to_list(root.right)\n",
    "\n"
   ]
  },
  {
   "cell_type": "code",
   "execution_count": 45,
   "metadata": {},
   "outputs": [
    {
     "name": "stdout",
     "output_type": "stream",
     "text": [
      "[1, 2, 3]\n"
     ]
    }
   ],
   "source": [
    "# Example Usage\n",
    "\n",
    "# Build the binary search tree\n",
    "elements = [4, 2, 7, 1, 3]\n",
    "root = build_binary_tree(elements)\n",
    "\n",
    "# Example 1\n",
    "val1 = 2\n",
    "subtree = root.get_subtree(val1)\n",
    "print(tree_to_list(subtree))  # Output: [1, 2, 3]"
   ]
  },
  {
   "cell_type": "code",
   "execution_count": 47,
   "metadata": {},
   "outputs": [
    {
     "name": "stdout",
     "output_type": "stream",
     "text": [
      "[]\n"
     ]
    }
   ],
   "source": [
    "# Build the binary search tree\n",
    "elements = [4,2,7,1,3]\n",
    "root = build_binary_tree(elements)\n",
    "\n",
    "# Example 2\n",
    "val = 5\n",
    "subtree = root.get_subtree(val)\n",
    "print(tree_to_list(subtree))  # Output: [1, 2, 3]"
   ]
  },
  {
   "cell_type": "code",
   "execution_count": null,
   "metadata": {},
   "outputs": [],
   "source": [
    "# h is the height of the tree\n",
    "# n is the number of nodes\n",
    "\n",
    "# Time: Build tree O(n), Find subtree O(h)\n",
    "# Space: Build tree O(n), Find subtree O(h)\n"
   ]
  }
 ],
 "metadata": {
  "kernelspec": {
   "display_name": "Python 3",
   "language": "python",
   "name": "python3"
  },
  "language_info": {
   "codemirror_mode": {
    "name": "ipython",
    "version": 3
   },
   "file_extension": ".py",
   "mimetype": "text/x-python",
   "name": "python",
   "nbconvert_exporter": "python",
   "pygments_lexer": "ipython3",
   "version": "3.12.5"
  }
 },
 "nbformat": 4,
 "nbformat_minor": 2
}

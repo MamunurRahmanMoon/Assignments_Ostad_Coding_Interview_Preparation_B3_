{
 "cells": [
  {
   "cell_type": "markdown",
   "metadata": {},
   "source": [
    "# <font color='cyan'>Task 1</font>\n",
    "\n",
    "> Write a function that does the following task.\n",
    "\n",
    "> Given an integer array nums and an integer k, return the k most frequent elements. You may return the answer in any order.\n",
    "\n",
    "> Mention the time and space complexity of your solution."
   ]
  },
  {
   "cell_type": "code",
   "execution_count": 2,
   "metadata": {},
   "outputs": [],
   "source": [
    "from collections import Counter\n",
    "import heapq\n",
    "\n",
    "def topKFrequent(nums, k):\n",
    "    # Count the frequency of each element\n",
    "    count = Counter(nums)\n",
    "    \n",
    "    # Use a heap to keep the top k elements\n",
    "    # Push as (frequency, element)\n",
    "    return [item for item, _ in heapq.nlargest(k, count.items(), key=lambda x: x[1])]\n"
   ]
  },
  {
   "cell_type": "code",
   "execution_count": 3,
   "metadata": {},
   "outputs": [
    {
     "name": "stdout",
     "output_type": "stream",
     "text": [
      "[1, 2]\n",
      "[1]\n"
     ]
    }
   ],
   "source": [
    "# Example 1\n",
    "nums1 = [1, 1, 1, 2, 2, 3]\n",
    "k1 = 2\n",
    "print(topKFrequent(nums1, k1))  # Output: [1, 2] or [2, 1] (order may vary)\n",
    "\n",
    "# Example 2\n",
    "nums2 = [1]\n",
    "k2 = 1\n",
    "print(topKFrequent(nums2, k2))  # Output: [1]"
   ]
  },
  {
   "cell_type": "markdown",
   "metadata": {},
   "source": [
    "## Complexities:\n",
    "> Time Complexity: O(NlogK), where N is the number of elements in nums and maintaining the heap with the top k elements is O(NlogK)\n",
    "\n",
    "> Space Complexity: O(N+k) for storing frequencies and the heap."
   ]
  },
  {
   "cell_type": "markdown",
   "metadata": {},
   "source": [
    "# <font color='cyan'>Task 2</font>\n",
    "\n",
    "Write a function that does the following task.\n",
    "\n",
    "> Given the root of a binary tree, determine if it is a valid binary search tree (BST).\n",
    "\n",
    "> Mention the time and space complexity of your solution."
   ]
  },
  {
   "cell_type": "code",
   "execution_count": 4,
   "metadata": {},
   "outputs": [],
   "source": [
    "# Definition for a binary tree node.\n",
    "class TreeNode:\n",
    "    def __init__(self, val=0, left=None, right=None):\n",
    "        self.val = val\n",
    "        self.left = left\n",
    "        self.right = right\n",
    "\n",
    "def isValidBST(root):\n",
    "    def validate(node, low=-float('inf'), high=float('inf')):\n",
    "        if not node:\n",
    "            return True\n",
    "        # The current node's value must be within the range [low, high]\n",
    "        if node.val <= low or node.val >= high:\n",
    "            return False\n",
    "        # Recur for left and right subtree with updated ranges\n",
    "        return validate(node.left, low, node.val) and validate(node.right, node.val, high)\n",
    "    \n",
    "    return validate(root)\n"
   ]
  },
  {
   "cell_type": "code",
   "execution_count": 6,
   "metadata": {},
   "outputs": [
    {
     "name": "stdout",
     "output_type": "stream",
     "text": [
      "True\n"
     ]
    }
   ],
   "source": [
    "# Constructing a simple valid BST:\n",
    "#      2\n",
    "#     / \\\n",
    "#    1   3\n",
    "root1 = TreeNode(2)\n",
    "root1.left = TreeNode(1)\n",
    "root1.right = TreeNode(3)\n",
    "\n",
    "print(isValidBST(root1))  # Output: True"
   ]
  },
  {
   "cell_type": "code",
   "execution_count": 7,
   "metadata": {},
   "outputs": [
    {
     "name": "stdout",
     "output_type": "stream",
     "text": [
      "False\n"
     ]
    }
   ],
   "source": [
    "# Constructing an invalid BST:\n",
    "#      5\n",
    "#     / \\\n",
    "#    1   4\n",
    "#       / \\\n",
    "#      3   6\n",
    "root2 = TreeNode(5)\n",
    "root2.left = TreeNode(1)\n",
    "root2.right = TreeNode(4)\n",
    "root2.right.left = TreeNode(3)\n",
    "root2.right.right = TreeNode(6)\n",
    "\n",
    "print(isValidBST(root2))  # Output: False\n"
   ]
  },
  {
   "cell_type": "markdown",
   "metadata": {},
   "source": [
    "## Complexities:\n",
    "> Time Complexity: O(n), where N is the number of nodes, as each node is visited once\n",
    "\n",
    "> Space Complexity: O(H), where H is the height of the tree, due to recursion stack space."
   ]
  }
 ],
 "metadata": {
  "kernelspec": {
   "display_name": "base",
   "language": "python",
   "name": "python3"
  },
  "language_info": {
   "codemirror_mode": {
    "name": "ipython",
    "version": 3
   },
   "file_extension": ".py",
   "mimetype": "text/x-python",
   "name": "python",
   "nbconvert_exporter": "python",
   "pygments_lexer": "ipython3",
   "version": "3.12.3"
  }
 },
 "nbformat": 4,
 "nbformat_minor": 2
}

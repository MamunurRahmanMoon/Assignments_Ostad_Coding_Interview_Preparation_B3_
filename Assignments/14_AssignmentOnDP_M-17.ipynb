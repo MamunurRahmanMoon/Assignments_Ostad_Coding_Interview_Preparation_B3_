{
 "cells": [
  {
   "cell_type": "markdown",
   "metadata": {},
   "source": [
    "# <font color='cyan'>Task 1</font>\n",
    "\n",
    "Write a function that does the following task.\n",
    "\n",
    "\n",
    "> Given two strings text1 and text2, return the length of their longest common subsequence. If there is no common subsequence, return 0.\n",
    "\n",
    "\n",
    "> A subsequence of a string is a new string generated from the original string with some characters (can be none) deleted without changing the relative order of the remaining characters.\n",
    "\n",
    "\n",
    "> For example, \"ace\" is a subsequence of \"abcde\".\n",
    "\n",
    "> A common subsequence of two strings is a subsequence that is common to both strings."
   ]
  },
  {
   "cell_type": "code",
   "execution_count": 2,
   "metadata": {},
   "outputs": [],
   "source": [
    "def longestCommonSubsequence(text1, text2):\n",
    "    m, n = len(text1), len(text2)\n",
    "    dp = [[0] * (n + 1) for _ in range(m + 1)]\n",
    "    \n",
    "    for i in range(1, m + 1):\n",
    "        for j in range(1, n + 1):\n",
    "            if text1[i - 1] == text2[j - 1]:\n",
    "                dp[i][j] = dp[i - 1][j - 1] + 1\n",
    "            else:\n",
    "                dp[i][j] = max(dp[i - 1][j], dp[i][j - 1])\n",
    "                \n",
    "    return dp[m][n]\n"
   ]
  },
  {
   "cell_type": "code",
   "execution_count": null,
   "metadata": {},
   "outputs": [
    {
     "name": "stdout",
     "output_type": "stream",
     "text": [
      "3\n",
      "0\n"
     ]
    }
   ],
   "source": [
    "text1 = \"abcde\"\n",
    "text2 = \"ace\"\n",
    "print(longestCommonSubsequence(text1, text2))  # Output: 3\n",
    "\n",
    "text1 = \"abc\"\n",
    "text2 = \"def\"\n",
    "print(longestCommonSubsequence(text1, text2))  # Output: 0"
   ]
  },
  {
   "cell_type": "markdown",
   "metadata": {},
   "source": [
    "## Complexities:\n",
    "> Time Complexity: O(m×n), where m and n are the lengths of text1 and text2.\n",
    "\n",
    "> Space Complexity:O(m×n), for the 2D array dp."
   ]
  },
  {
   "cell_type": "markdown",
   "metadata": {},
   "source": [
    "# <font color='cyan'>Task 2</font>\n",
    "\n",
    "Write a function that does the following task.\n",
    "\n",
    "Given an integer array nums, return the length of the longest strictly increasing \n",
    "subsequence.\n"
   ]
  },
  {
   "cell_type": "code",
   "execution_count": 4,
   "metadata": {},
   "outputs": [],
   "source": [
    "def lengthOfLIS(nums):\n",
    "    if not nums:\n",
    "        return 0\n",
    "    \n",
    "    dp = [1] * len(nums)\n",
    "    \n",
    "    for i in range(1, len(nums)):\n",
    "        for j in range(i):\n",
    "            if nums[i] > nums[j]:\n",
    "                dp[i] = max(dp[i], dp[j] + 1)\n",
    "    \n",
    "    return max(dp)\n"
   ]
  },
  {
   "cell_type": "code",
   "execution_count": 5,
   "metadata": {},
   "outputs": [
    {
     "name": "stdout",
     "output_type": "stream",
     "text": [
      "4\n",
      "1\n"
     ]
    }
   ],
   "source": [
    "nums = [10, 9, 2, 5, 3, 7, 101, 18]\n",
    "print(lengthOfLIS(nums))  # Output: 4\n",
    "\n",
    "nums = [7, 7, 7, 7, 7]\n",
    "print(lengthOfLIS(nums))  # Output: 1\n"
   ]
  },
  {
   "cell_type": "markdown",
   "metadata": {},
   "source": [
    "## Complexities:\n",
    "\n",
    "> Time Complexity: O(n^2), where n is the length of nums.\n",
    "\n",
    "> Space Complexity: O(n), for the array dp."
   ]
  }
 ],
 "metadata": {
  "kernelspec": {
   "display_name": "base",
   "language": "python",
   "name": "python3"
  },
  "language_info": {
   "codemirror_mode": {
    "name": "ipython",
    "version": 3
   },
   "file_extension": ".py",
   "mimetype": "text/x-python",
   "name": "python",
   "nbconvert_exporter": "python",
   "pygments_lexer": "ipython3",
   "version": "3.12.3"
  }
 },
 "nbformat": 4,
 "nbformat_minor": 2
}

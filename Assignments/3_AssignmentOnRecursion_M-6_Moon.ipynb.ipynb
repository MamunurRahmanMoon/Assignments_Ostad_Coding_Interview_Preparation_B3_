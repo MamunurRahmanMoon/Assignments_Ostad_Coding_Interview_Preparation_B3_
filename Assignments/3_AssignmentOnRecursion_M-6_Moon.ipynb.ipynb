{
 "cells": [
  {
   "cell_type": "markdown",
   "id": "7cb75a5f-4ecd-4bec-b394-489103f65fbc",
   "metadata": {},
   "source": []
  },
  {
   "cell_type": "code",
   "execution_count": 1,
   "id": "1c9a1570-62d4-4f3a-95fa-01e7de283350",
   "metadata": {},
   "outputs": [],
   "source": [
    "def is_palindrome(s):\n",
    "    def helper(start, end):\n",
    "        # Base cases\n",
    "        if start >= end:\n",
    "            return True\n",
    "        if s[start] != s[end]:\n",
    "            return False\n",
    "        # Recursive case\n",
    "        return helper(start + 1, end - 1)\n",
    "    \n",
    "    return helper(0, len(s) - 1)\n",
    "\n",
    "# Time complexity: O(n)\n",
    "# Space Complexity: O(n)\n"
   ]
  },
  {
   "cell_type": "code",
   "execution_count": 3,
   "id": "652bf281-016e-448d-b3fd-33cfb3f867cf",
   "metadata": {},
   "outputs": [
    {
     "name": "stdout",
     "output_type": "stream",
     "text": [
      "True\n",
      "False\n"
     ]
    }
   ],
   "source": [
    "# Example usage\n",
    "print(is_palindrome(\"madam\"))  # Output: true\n",
    "print(is_palindrome(\"adam\"))   # Output: false"
   ]
  },
  {
   "cell_type": "code",
   "execution_count": 5,
   "id": "48663ae8-6acf-4d4a-b105-67786318dc50",
   "metadata": {},
   "outputs": [],
   "source": [
    "def recursive_multiply(a, b):\n",
    "    # Base case: if b is 1, return a\n",
    "    if b == 1:\n",
    "        return a\n",
    "    \n",
    "    # Recursive case: add a to the result of multiplying a by (b - 1)\n",
    "    return a + recursive_multiply(a, b - 1)\n",
    "\n"
   ]
  },
  {
   "cell_type": "code",
   "execution_count": 7,
   "id": "644e8f28-2f53-4099-ba20-a92e777ad752",
   "metadata": {},
   "outputs": [
    {
     "name": "stdout",
     "output_type": "stream",
     "text": [
      "20\n",
      "9\n"
     ]
    }
   ],
   "source": [
    "# Example usage\n",
    "print(recursive_multiply(4, 5))  # Output: 20\n",
    "print(recursive_multiply(3, 3))  # Output: 9"
   ]
  },
  {
   "cell_type": "code",
   "execution_count": null,
   "id": "3fe21b13-ac59-4626-95d2-a2272f8ce5c8",
   "metadata": {},
   "outputs": [],
   "source": []
  }
 ],
 "metadata": {
  "kernelspec": {
   "display_name": "Python 3 (ipykernel)",
   "language": "python",
   "name": "python3"
  },
  "language_info": {
   "codemirror_mode": {
    "name": "ipython",
    "version": 3
   },
   "file_extension": ".py",
   "mimetype": "text/x-python",
   "name": "python",
   "nbconvert_exporter": "python",
   "pygments_lexer": "ipython3",
   "version": "3.12.4"
  }
 },
 "nbformat": 4,
 "nbformat_minor": 5
}

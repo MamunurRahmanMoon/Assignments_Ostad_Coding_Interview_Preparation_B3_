{
 "cells": [
  {
   "cell_type": "markdown",
   "metadata": {},
   "source": [
    "# Task 1"
   ]
  },
  {
   "cell_type": "code",
   "execution_count": 3,
   "metadata": {},
   "outputs": [],
   "source": [
    "def permute(s):\n",
    "    def backtrack(start, end):\n",
    "        if start == end:\n",
    "            result.append(''.join(s))  # Append the current permutation to the result\n",
    "        for i in range(start, end):\n",
    "            # Swap characters at index start and i\n",
    "            s[start], s[i] = s[i], s[start]\n",
    "            backtrack(start + 1, end)  # Recurse for the next character\n",
    "            # Backtrack by swapping the characters back to their original positions\n",
    "            s[start], s[i] = s[i], s[start]\n",
    "\n",
    "    result = []\n",
    "    s = list(s)  # Convert string to list for easier swapping\n",
    "    backtrack(0, len(s))\n",
    "    return result\n",
    "\n"
   ]
  },
  {
   "cell_type": "code",
   "execution_count": 4,
   "metadata": {},
   "outputs": [
    {
     "name": "stdout",
     "output_type": "stream",
     "text": [
      "['abc', 'acb', 'bac', 'bca', 'cba', 'cab']\n"
     ]
    }
   ],
   "source": [
    "# Example usage:\n",
    "input_string = \"abc\"\n",
    "print(permute(input_string))  # Output: ['abc', 'acb', 'bac', 'bca', 'cab', 'cba']\n"
   ]
  },
  {
   "cell_type": "markdown",
   "metadata": {},
   "source": [
    "### Complexities of Task 1\n",
    "\n",
    "> Time: O( n! )\n",
    "\n",
    "> Space: O(n)"
   ]
  },
  {
   "cell_type": "markdown",
   "metadata": {},
   "source": [
    "# Task 2"
   ]
  },
  {
   "cell_type": "code",
   "execution_count": 1,
   "metadata": {},
   "outputs": [],
   "source": [
    "def isSafe(x, y, N, m, visited):\n",
    "    # Check if (x, y) is inside grid and not blocked or visited\n",
    "    return 0 <= x < N and 0 <= y < N and m[x][y] == 1 and not visited[x][y]\n",
    "\n",
    "def findPath(x, y, N, m, visited):\n",
    "    # If the destination is reached, return True\n",
    "    if x == N - 1 and y == N - 1:\n",
    "        return True\n",
    "\n",
    "    # Mark the current cell as visited\n",
    "    visited[x][y] = True\n",
    "\n",
    "    # Possible directions to move: down, right, up, left\n",
    "    direction_x = [1, 0, -1, 0]\n",
    "    direction_y = [0, 1, 0, -1]\n",
    "\n",
    "    # Try all 4 directions\n",
    "    for i in range(4):\n",
    "        next_x = x + direction_x[i]\n",
    "        next_y = y + direction_y[i]\n",
    "\n",
    "        if isSafe(next_x, next_y, N, m, visited):\n",
    "            if findPath(next_x, next_y, N, m, visited):\n",
    "                return True\n",
    "\n",
    "    # Unmark the current cell as we backtrack\n",
    "    visited[x][y] = False\n",
    "    return False\n",
    "\n",
    "def isPathPossible(N, m):\n",
    "    # If start or destination is blocked, return False\n",
    "    if m[0][0] == 0 or m[N-1][N-1] == 0:\n",
    "        return False\n",
    "\n",
    "    visited = [[False for _ in range(N)] for _ in range(N)]\n",
    "    return findPath(0, 0, N, m, visited)\n",
    "\n"
   ]
  },
  {
   "cell_type": "code",
   "execution_count": 2,
   "metadata": {},
   "outputs": [
    {
     "name": "stdout",
     "output_type": "stream",
     "text": [
      "True\n"
     ]
    }
   ],
   "source": [
    "# Example Usage:\n",
    "N = 4\n",
    "matrix = [[1, 0, 0, 0],\n",
    "          [1, 1, 0, 1],\n",
    "          [1, 1, 0, 0],\n",
    "          [0, 1, 1, 1]]\n",
    "\n",
    "print(isPathPossible(N, matrix))  # Output: True\n"
   ]
  },
  {
   "cell_type": "markdown",
   "metadata": {},
   "source": [
    "### Complexities of Task 2\n",
    "\n",
    "> Time: O(n^2)\n",
    "\n",
    "> Space: O(n^2)"
   ]
  }
 ],
 "metadata": {
  "kernelspec": {
   "display_name": "Python 3",
   "language": "python",
   "name": "python3"
  },
  "language_info": {
   "codemirror_mode": {
    "name": "ipython",
    "version": 3
   },
   "file_extension": ".py",
   "mimetype": "text/x-python",
   "name": "python",
   "nbconvert_exporter": "python",
   "pygments_lexer": "ipython3",
   "version": "3.12.5"
  }
 },
 "nbformat": 4,
 "nbformat_minor": 2
}

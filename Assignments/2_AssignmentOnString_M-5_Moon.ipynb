{
 "cells": [
  {
   "cell_type": "markdown",
   "id": "2048e393-f78e-4c60-ba41-0215b4fdb58d",
   "metadata": {},
   "source": [
    "# Task 1\r\n",
    "\r\n",
    "Write a function that does the following ta.\r\n",
    "\r\n",
    "\r\n",
    "You are given a string s and an integer array indices of the same length. The string s will be shuffled such that the character at the ith position moves to indices[i] in the shuffled string. Return the shuffled sting.\r\n",
    "\r\n",
    "\r\n",
    "Also, mention the Time and Space Complexity of your\n",
    "\n",
    "> Example 1:\r\n",
    "\r\n",
    "Input: s = \"mamacode\", indices = [4,5,6,7,0,1,2,3]\r\n",
    "Output: \"codemama\"\r\n",
    "Explanation: As shown, \"mamacode\" becomes \"codemama\" after shuffling. solution"
   ]
  },
  {
   "cell_type": "code",
   "execution_count": 19,
   "id": "1ed1142c-de50-493f-9c3c-dbdac16c02dd",
   "metadata": {},
   "outputs": [],
   "source": [
    "def restoreString(s, indices):\n",
    "\n",
    "        suffledString = \"\"\n",
    "\n",
    "        for i in range(len(s)):  # If, n= length of the string; => Time complexity: O(n)\n",
    "            suffledString += s[indices.index(i)] ## Complexity of index() is O(n)\n",
    "\n",
    "        return suffledString\n",
    "\n",
    "# Total \n",
    "# Time complexity: O(n) \n",
    "# Space complexity: O(n)"
   ]
  },
  {
   "cell_type": "code",
   "execution_count": 21,
   "id": "e4387e44-3a08-4289-a012-e1c2ac13c589",
   "metadata": {},
   "outputs": [],
   "source": [
    "task1 = suffledString(\"mamacode\", [4,5,6,7,0,1,2,3])"
   ]
  },
  {
   "cell_type": "code",
   "execution_count": 23,
   "id": "2050b97a-323e-4f30-95e1-90afd0b71a53",
   "metadata": {},
   "outputs": [
    {
     "name": "stdout",
     "output_type": "stream",
     "text": [
      "codemama\n"
     ]
    }
   ],
   "source": [
    "print(task1)"
   ]
  },
  {
   "cell_type": "markdown",
   "id": "dcce8e73-1410-4132-a48b-f2de0a1e6f7a",
   "metadata": {},
   "source": [
    "# Task 2\n",
    "\n",
    "\r\n",
    "Write a function that does the following ta.\r\n",
    "\r\n",
    "\r\n",
    "Given two strings needle and haystack, return the index of the first occurrence of needle in haystack, or -1 if needle is not part of hayack.\r\n",
    "\r\n",
    "\r\n",
    "Also, mention the Time and Space Complexity of your olution\r\n",
    "\r\n",
    "\r\n",
    "Ctraints: \r\n",
    "\r\n",
    "\r\n",
    "\r\n",
    "1 <= haystack.length, needl.length <= 10^4\r\n",
    "\r\n",
    "haystack and needle consist of only lowercase En\n",
    "ish characrs.\r\n",
    "\r\n",
    "\r\n",
    "Example 1:\r\n",
    "\r\n",
    "\r\n",
    "Input: haystack = \"sadbutsad\", \n",
    "needle = \"sad\"\r\n",
    "Output: 0\r\n",
    "Explanation: \"sad\" occurs at index 0 and 6.\r\n",
    "The first occurrence is at index 0, so we return 0."
   ]
  },
  {
   "cell_type": "code",
   "execution_count": 26,
   "id": "6440f9f1-9a6a-4a7a-84bd-2e39eb3cafb1",
   "metadata": {},
   "outputs": [],
   "source": [
    "def strStr(haystack, needle):\n",
    "    \n",
    "    ## O(n*m) time complexity implementation\n",
    "        for i in range(len(haystack) + 1 - len(needle)):\n",
    "            for j in range(len(needle)):\n",
    "                if haystack[i + j] != needle[j]:\n",
    "                    break\n",
    "                if j == (len(needle) - 1):\n",
    "                    return i\n",
    "        return -1\n",
    "\n",
    "# if, haystack = m; needle = n;  => Time complexity is O(n*m)\n",
    "#                                => Space complexity is O(1)"
   ]
  },
  {
   "cell_type": "code",
   "execution_count": 46,
   "id": "2cbaf9bb-c25d-4037-9c55-033cbd62f164",
   "metadata": {},
   "outputs": [],
   "source": [
    "haystack = \"butsadsad\"\n",
    "needle = \"sad\"\n",
    "task2 = strStr(haystack, needle)"
   ]
  },
  {
   "cell_type": "code",
   "execution_count": 48,
   "id": "08d6745c-b552-437d-96fb-adfaa807369e",
   "metadata": {},
   "outputs": [
    {
     "name": "stdout",
     "output_type": "stream",
     "text": [
      "3\n"
     ]
    }
   ],
   "source": [
    "print(task2)"
   ]
  },
  {
   "cell_type": "code",
   "execution_count": 34,
   "id": "6f095c9a-5bd0-4108-9b7f-a0d36963f7df",
   "metadata": {},
   "outputs": [],
   "source": [
    "haystack = \"codemama\"\n",
    "needle = \"ostad\"\n",
    "task2 = strStr(haystack, needle)"
   ]
  },
  {
   "cell_type": "code",
   "execution_count": 36,
   "id": "cd14cfe5-69a2-4c36-8b75-fde7146eb21b",
   "metadata": {},
   "outputs": [
    {
     "name": "stdout",
     "output_type": "stream",
     "text": [
      "-1\n"
     ]
    }
   ],
   "source": [
    "print(task2)"
   ]
  }
 ],
 "metadata": {
  "kernelspec": {
   "display_name": "Python 3 (ipykernel)",
   "language": "python",
   "name": "python3"
  },
  "language_info": {
   "codemirror_mode": {
    "name": "ipython",
    "version": 3
   },
   "file_extension": ".py",
   "mimetype": "text/x-python",
   "name": "python",
   "nbconvert_exporter": "python",
   "pygments_lexer": "ipython3",
   "version": "3.12.4"
  }
 },
 "nbformat": 4,
 "nbformat_minor": 5
}

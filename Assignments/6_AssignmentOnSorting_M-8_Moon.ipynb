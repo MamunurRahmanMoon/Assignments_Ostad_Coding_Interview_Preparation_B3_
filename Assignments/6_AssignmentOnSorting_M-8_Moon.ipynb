{
 "cells": [
  {
   "cell_type": "markdown",
   "metadata": {},
   "source": [
    "# Task 1: Find the Kth Largest Element"
   ]
  },
  {
   "cell_type": "code",
   "execution_count": 1,
   "metadata": {},
   "outputs": [
    {
     "name": "stdout",
     "output_type": "stream",
     "text": [
      "5\n"
     ]
    }
   ],
   "source": [
    "def partition(nums, low, high):\n",
    "    pivot = nums[high]\n",
    "    i = low - 1\n",
    "    for j in range(low, high):\n",
    "        if nums[j] <= pivot:\n",
    "            i += 1\n",
    "            nums[i], nums[j] = nums[j], nums[i]\n",
    "    nums[i + 1], nums[high] = nums[high], nums[i + 1]\n",
    "    return i + 1\n",
    "\n",
    "def quick_sort(nums, low, high):\n",
    "    if low < high:\n",
    "        pi = partition(nums, low, high)\n",
    "        quick_sort(nums, low, pi - 1)\n",
    "        quick_sort(nums, pi + 1, high)\n",
    "\n",
    "def find_kth_largest(nums, k):\n",
    "    n = len(nums)\n",
    "    # Sort the array using Quick Sort\n",
    "    quick_sort(nums, 0, n - 1)\n",
    "    # The k-th largest element is at index n - k\n",
    "    return nums[n - k]\n",
    "\n",
    "# Example usage\n",
    "nums = [3, 2, 1, 5, 6, 4]\n",
    "k = 2\n",
    "print(find_kth_largest(nums, k))  # Output: 5\n"
   ]
  },
  {
   "cell_type": "markdown",
   "metadata": {},
   "source": [
    "> Time Complexity: 𝑂(𝑛log𝑛); Worst Case: O(n^2)\n",
    "\n",
    "> Space Complexity: Average Case: O(logn); Worst Case: O(n)\n",
    "\n",
    "\n",
    "\n",
    "\n",
    "> Reason to use QuickSort \n",
    "\n",
    "* For finding the k-th largest element specifically, algorithms like Quickselect are often preferred for their linear expected time complexity."
   ]
  },
  {
   "cell_type": "markdown",
   "metadata": {},
   "source": [
    "# Task 2: Merge Sorted Arrays"
   ]
  },
  {
   "cell_type": "code",
   "execution_count": 1,
   "metadata": {},
   "outputs": [
    {
     "name": "stdout",
     "output_type": "stream",
     "text": [
      "[1, 2, 2, 3, 5, 6]\n"
     ]
    }
   ],
   "source": [
    "def merge(nums1, m, nums2, n):\n",
    "    # Last index of nums1\n",
    "    last = m + n - 1\n",
    "    \n",
    "    # Pointers for nums1 and nums2\n",
    "    i = m - 1\n",
    "    j = n - 1\n",
    "    \n",
    "    # Merge in reverse order\n",
    "    while i >= 0 and j >= 0:\n",
    "        if nums1[i] > nums2[j]:\n",
    "            nums1[last] = nums1[i]\n",
    "            i -= 1\n",
    "        else:\n",
    "            nums1[last] = nums2[j]\n",
    "            j -= 1\n",
    "        last -= 1\n",
    "    \n",
    "    # If any elements left in nums2\n",
    "    while j >= 0:\n",
    "        nums1[last] = nums2[j]\n",
    "        j -= 1\n",
    "        last -= 1\n",
    "\n",
    "# Example usage\n",
    "nums1 = [1, 2, 3, 0, 0, 0]\n",
    "m = 3\n",
    "nums2 = [2, 5, 6]\n",
    "n = 3\n",
    "merge(nums1, m, nums2, n)\n",
    "print(nums1)  # Output: [1, 2, 2, 3, 5, 6]\n"
   ]
  },
  {
   "cell_type": "code",
   "execution_count": null,
   "metadata": {},
   "outputs": [],
   "source": [
    "# Time Complexity: O(m+n)\n",
    "\n",
    "# Space Complexity: O(1)\n"
   ]
  }
 ],
 "metadata": {
  "kernelspec": {
   "display_name": "Python 3",
   "language": "python",
   "name": "python3"
  },
  "language_info": {
   "codemirror_mode": {
    "name": "ipython",
    "version": 3
   },
   "file_extension": ".py",
   "mimetype": "text/x-python",
   "name": "python",
   "nbconvert_exporter": "python",
   "pygments_lexer": "ipython3",
   "version": "3.12.5"
  }
 },
 "nbformat": 4,
 "nbformat_minor": 2
}

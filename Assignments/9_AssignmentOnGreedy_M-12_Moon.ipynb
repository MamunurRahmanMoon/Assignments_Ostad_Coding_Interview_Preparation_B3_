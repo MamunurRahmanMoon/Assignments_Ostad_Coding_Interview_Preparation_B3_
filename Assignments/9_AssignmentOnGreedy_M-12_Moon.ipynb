{
 "cells": [
  {
   "cell_type": "markdown",
   "metadata": {},
   "source": [
    "# Task 1\n",
    "\n",
    "You are assigned to put some amount of boxes onto one truck. You are given a 2D array boxTypes, where boxTypes[i] = [number_of_boxes_i, number_of_unit_per_box_i]:\n",
    "\n",
    "\n",
    "> Number_of_boxes_i is the number of boxes of type i.\n",
    "\n",
    "> Number_of_unit_per_box_i is the number of units in each box of the type i.\n",
    "\n",
    "You are also given an integer truckSize, which is the maximum number of boxes that can be put on the truck. You can choose any boxes to put on the truck as long as the number of boxes does not exceed truckSize.\n",
    "\n",
    "\n",
    "> Return the maximum total number of units that can be put on the truck."
   ]
  },
  {
   "cell_type": "code",
   "execution_count": 2,
   "metadata": {},
   "outputs": [],
   "source": [
    "def maximumUnits(boxTypes, truckSize):\n",
    "    # Sort boxTypes by the units per box in descending order (value/weight in knapsack terms)\n",
    "    boxTypes.sort(key=lambda x: x[1], reverse=True)\n",
    "    \n",
    "    total_units = 0\n",
    "    remaining_capacity = truckSize\n",
    "    \n",
    "    for num_boxes, units_per_box in boxTypes:\n",
    "        if remaining_capacity == 0:\n",
    "            break\n",
    "        \n",
    "        # Take as many boxes as possible\n",
    "        boxes_to_take = min(remaining_capacity, num_boxes)\n",
    "        total_units += boxes_to_take * units_per_box\n",
    "        \n",
    "        # Decrease the remaining truck capacity\n",
    "        remaining_capacity -= boxes_to_take\n",
    "\n",
    "    return total_units\n",
    "\n",
    "\n"
   ]
  },
  {
   "cell_type": "code",
   "execution_count": 3,
   "metadata": {},
   "outputs": [
    {
     "name": "stdout",
     "output_type": "stream",
     "text": [
      "8\n",
      "91\n"
     ]
    }
   ],
   "source": [
    "# Example Usage\n",
    "boxTypes1 = [[1,3],[2,2],[3,1]]\n",
    "truckSize1 = 4\n",
    "print(maximumUnits(boxTypes1, truckSize1))  # Output: 8\n",
    "\n",
    "boxTypes2 = [[5,10],[2,5],[4,7],[3,9]]\n",
    "truckSize2 = 10\n",
    "print(maximumUnits(boxTypes2, truckSize2))  # Output: 91"
   ]
  },
  {
   "cell_type": "markdown",
   "metadata": {},
   "source": [
    "### Complexities of Task 1\n",
    "\n",
    "> Time: O(nlogn)\n",
    "\n",
    "> Space: O(1)"
   ]
  },
  {
   "cell_type": "markdown",
   "metadata": {},
   "source": [
    "# Task 2\n",
    "Given a set of N intervals denoted by 2D array A of size N x 2, the task is to find the length of maximal set of mutually disjoint intervals.\n",
    "\n",
    "> Two intervals [x, y] & [p, q] are said to be disjoint if they do not have any point in common.\n",
    "\n",
    "> Return a integer denoting the length of maximal set of mutually disjoint intervals\n"
   ]
  },
  {
   "cell_type": "code",
   "execution_count": 4,
   "metadata": {},
   "outputs": [],
   "source": [
    "def maxDisjointIntervals(intervals):\n",
    "    # Sort intervals by their end time\n",
    "    intervals.sort(key=lambda x: x[1])\n",
    "    \n",
    "    # Initialize count and track the end time of the last added interval\n",
    "    count = 0\n",
    "    last_end = float('-inf')\n",
    "    \n",
    "    for interval in intervals:\n",
    "        # If current interval starts after the last selected one ends\n",
    "        if interval[0] > last_end:\n",
    "            # Pick this interval\n",
    "            count += 1\n",
    "            last_end = interval[1]  # Update the last_end to current interval's end time\n",
    "    \n",
    "    return count\n",
    "\n",
    "\n"
   ]
  },
  {
   "cell_type": "code",
   "execution_count": 5,
   "metadata": {},
   "outputs": [
    {
     "name": "stdout",
     "output_type": "stream",
     "text": [
      "3\n",
      "2\n"
     ]
    }
   ],
   "source": [
    "# Example 1\n",
    "A = [[1, 4], [2, 3], [4, 6], [8, 9]]\n",
    "print(maxDisjointIntervals(A))  # Output: 3\n",
    "\n",
    "# Example 2\n",
    "A = [[1, 9], [2, 3], [5, 7]]\n",
    "print(maxDisjointIntervals(A))  # Output: 2"
   ]
  },
  {
   "cell_type": "markdown",
   "metadata": {},
   "source": [
    "### Complexities of Task 2\n",
    "\n",
    "> Time: O(nlogn)\n",
    "\n",
    "> Space: O(1)"
   ]
  }
 ],
 "metadata": {
  "kernelspec": {
   "display_name": "Python 3",
   "language": "python",
   "name": "python3"
  },
  "language_info": {
   "codemirror_mode": {
    "name": "ipython",
    "version": 3
   },
   "file_extension": ".py",
   "mimetype": "text/x-python",
   "name": "python",
   "nbconvert_exporter": "python",
   "pygments_lexer": "ipython3",
   "version": "3.12.5"
  }
 },
 "nbformat": 4,
 "nbformat_minor": 2
}

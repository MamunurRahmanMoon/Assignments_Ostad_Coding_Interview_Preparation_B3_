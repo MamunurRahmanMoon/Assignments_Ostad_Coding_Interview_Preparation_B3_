{
 "cells": [
  {
   "cell_type": "markdown",
   "metadata": {},
   "source": [
    "# <font color='cyan'>Task 1</font>\n",
    "\n",
    "Write a function that does the following task.\n",
    "\n",
    "\n",
    "Given a directed graph having A nodes. A matrix B of size M x 2 is given which represents the M edges such that there is an edge directed from node B[i][0] to node B[i][1].\n",
    "\n",
    "\n",
    "Find whether the graph contains a cycle or not, return 1 if cycle is present else return 0."
   ]
  },
  {
   "cell_type": "code",
   "execution_count": 9,
   "metadata": {},
   "outputs": [],
   "source": [
    "class Solution:\n",
    "    def hasCycle(self, A, B):\n",
    "        # Create an adjacency list from the edge list\n",
    "        adj_list = [[] for _ in range(A + 1)]\n",
    "        for u, v in B:\n",
    "            adj_list[u].append(v)\n",
    "\n",
    "        visited = [False] * (A + 1)\n",
    "        recStack = [False] * (A + 1)\n",
    "        \n",
    "        def dfs(node):\n",
    "            visited[node] = True\n",
    "            recStack[node] = True\n",
    "\n",
    "            for neighbor in adj_list[node]:\n",
    "                if not visited[neighbor]:\n",
    "                    if dfs(neighbor):  # If cycle found, propagate True\n",
    "                        return True\n",
    "                elif recStack[neighbor]:  # Found a back edge (cycle)\n",
    "                    return True\n",
    "\n",
    "            recStack[node] = False  # Backtrack\n",
    "            return False\n",
    "\n",
    "        # Check for cycles from each unvisited node\n",
    "        for node in range(1, A + 1):\n",
    "            if not visited[node]:\n",
    "                if dfs(node):\n",
    "                    return 1\n",
    "\n",
    "        return 0  # No cycle found\n",
    "\n",
    "\n"
   ]
  },
  {
   "cell_type": "code",
   "execution_count": 11,
   "metadata": {},
   "outputs": [
    {
     "name": "stdout",
     "output_type": "stream",
     "text": [
      "1\n"
     ]
    }
   ],
   "source": [
    "\n",
    "A = 5\n",
    "B = [[1, 2], [4, 1], [2, 4], [3, 4], [5, 2], [1, 3]]\n",
    "sol = Solution()\n",
    "print(sol.hasCycle(A, B))  # Output: 1 (cycle exists)"
   ]
  },
  {
   "cell_type": "markdown",
   "metadata": {},
   "source": [
    "### Complexitites:\n",
    "\n",
    ">Time: O(A+M), where A is the number of nodes and M is the number of edges. Each edge and node is visited once.\n",
    "\n",
    "> Space: O(A) due to recursion stack and the visited and recStack arrays."
   ]
  },
  {
   "cell_type": "markdown",
   "metadata": {},
   "source": [
    "# <font color='cyan'>Task 2</font>\n",
    "\n",
    "Write a function that does the following task.\n",
    "\n",
    "Given a tree with N nodes labeled from 1 to N.\n",
    "\n",
    "Each node is either good or bad denoted by binary array A of size N where if A[i] is 1 then i-th node is good else if A[i] is 0 then i-th node is bad.\n",
    "\n",
    "Also the given tree is rooted at node 1 and you need to tell the number of root to leaf paths in the tree that contain not more than C good nodes."
   ]
  },
  {
   "cell_type": "code",
   "execution_count": 16,
   "metadata": {},
   "outputs": [],
   "source": [
    "class Solution:\n",
    "    def countGoodPaths(self, A, B, C):\n",
    "        N = len(A)\n",
    "        adj_list = [[] for _ in range(N + 1)]\n",
    "        for u, v in B:\n",
    "            adj_list[u].append(v)\n",
    "            adj_list[v].append(u)\n",
    "\n",
    "        def dfs(node, parent, good_count):\n",
    "            # Increment good_count if this node is good\n",
    "            good_count += A[node - 1]  \n",
    "            \n",
    "            # If this node has no children (leaf node)\n",
    "            if len(adj_list[node]) == 1 and node != 1:  # Not the root\n",
    "                return 1 if good_count <= C else 0\n",
    "\n",
    "            # Recursively visit children\n",
    "            total_paths = 0\n",
    "            for neighbor in adj_list[node]:\n",
    "                if neighbor != parent:\n",
    "                    total_paths += dfs(neighbor, node, good_count)\n",
    "            \n",
    "            return total_paths\n",
    "\n",
    "        # Start DFS from root node 1 with 0 good nodes initially\n",
    "        return dfs(1, -1, 0)\n",
    "\n",
    "\n"
   ]
  },
  {
   "cell_type": "code",
   "execution_count": 17,
   "metadata": {},
   "outputs": [
    {
     "name": "stdout",
     "output_type": "stream",
     "text": [
      "3\n"
     ]
    }
   ],
   "source": [
    "A = [0, 1, 0, 1, 1, 1]\n",
    "B = [[1, 2], [1, 5], [1, 6], [2, 3], [2, 4]]\n",
    "C = 1\n",
    "sol = Solution()\n",
    "print(sol.countGoodPaths(A, B, C))  # Output: 3"
   ]
  },
  {
   "cell_type": "markdown",
   "metadata": {},
   "source": [
    "# Complexitites:\n",
    "\n",
    "> Time: O(N), where N is the number of nodes since we traverse each node once.\n",
    "\n",
    "> Space: O(N) due to recursion stack."
   ]
  }
 ],
 "metadata": {
  "kernelspec": {
   "display_name": "Python 3",
   "language": "python",
   "name": "python3"
  },
  "language_info": {
   "codemirror_mode": {
    "name": "ipython",
    "version": 3
   },
   "file_extension": ".py",
   "mimetype": "text/x-python",
   "name": "python",
   "nbconvert_exporter": "python",
   "pygments_lexer": "ipython3",
   "version": "3.12.5"
  }
 },
 "nbformat": 4,
 "nbformat_minor": 2
}
